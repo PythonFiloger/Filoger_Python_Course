{
 "cells": [
  {
   "cell_type": "markdown",
   "metadata": {},
   "source": [
    "### recursive function"
   ]
  },
  {
   "cell_type": "code",
   "execution_count": null,
   "metadata": {},
   "outputs": [],
   "source": [
    "# 3!\n",
    "# 3 * 2 * 1"
   ]
  },
  {
   "cell_type": "code",
   "execution_count": null,
   "metadata": {},
   "outputs": [],
   "source": [
    "# f(4)\n",
    "# f(4) = 4 * f(3)\n",
    "# f(3) = 3 * f(2)\n",
    "# f(2) = 2 * f(1)\n",
    "# f(1) = 1\n",
    "# f(n) ====> n * f(n-1)"
   ]
  },
  {
   "cell_type": "code",
   "execution_count": 1,
   "metadata": {},
   "outputs": [],
   "source": [
    "def factorial1(num):\n",
    "  f = 1\n",
    "  for i in range(1, num+1):\n",
    "    f *= i\n",
    "  print(f)\n"
   ]
  },
  {
   "cell_type": "code",
   "execution_count": 3,
   "metadata": {},
   "outputs": [
    {
     "name": "stdout",
     "output_type": "stream",
     "text": [
      "120\n"
     ]
    }
   ],
   "source": [
    "factorial1(5)"
   ]
  },
  {
   "cell_type": "code",
   "execution_count": 4,
   "metadata": {},
   "outputs": [],
   "source": [
    "def factorial2(num):\n",
    "  if num == 1 or num == 0:\n",
    "    return 1\n",
    "  else:\n",
    "    return num * factorial2(num - 1)"
   ]
  },
  {
   "cell_type": "code",
   "execution_count": 5,
   "metadata": {},
   "outputs": [
    {
     "data": {
      "text/plain": [
       "120"
      ]
     },
     "execution_count": 5,
     "metadata": {},
     "output_type": "execute_result"
    }
   ],
   "source": [
    "factorial2(5)"
   ]
  },
  {
   "cell_type": "code",
   "execution_count": 6,
   "metadata": {},
   "outputs": [],
   "source": [
    "## binary search\n",
    "def binary_search(list1, x, low, high):\n",
    "  if high >= low:\n",
    "    mid = (low + high) // 2\n",
    "    if list1[mid] == x:\n",
    "      return mid\n",
    "    elif list1[mid] > x:\n",
    "      return binary_search(list1, x, low, mid-1)\n",
    "    else:\n",
    "      return binary_search(list1, x, mid + 1, high)\n",
    "  else: # 5 ===> low = 6\n",
    "    return -1\n",
    "  "
   ]
  },
  {
   "cell_type": "code",
   "execution_count": 8,
   "metadata": {},
   "outputs": [
    {
     "name": "stdout",
     "output_type": "stream",
     "text": [
      "-1\n"
     ]
    }
   ],
   "source": [
    "list1 = [2, 5, 6, 10, 14]\n",
    "x = 60\n",
    "res = binary_search(list1, x, 0, len(list1)-1)\n",
    "print(res)"
   ]
  }
 ],
 "metadata": {
  "kernelspec": {
   "display_name": "base",
   "language": "python",
   "name": "python3"
  },
  "language_info": {
   "codemirror_mode": {
    "name": "ipython",
    "version": 3
   },
   "file_extension": ".py",
   "mimetype": "text/x-python",
   "name": "python",
   "nbconvert_exporter": "python",
   "pygments_lexer": "ipython3",
   "version": "3.9.13"
  },
  "orig_nbformat": 4
 },
 "nbformat": 4,
 "nbformat_minor": 2
}
