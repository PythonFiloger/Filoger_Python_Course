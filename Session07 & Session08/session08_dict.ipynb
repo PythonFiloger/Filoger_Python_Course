{
 "cells": [
  {
   "cell_type": "markdown",
   "metadata": {},
   "source": [
    "### Loop (While)"
   ]
  },
  {
   "cell_type": "code",
   "execution_count": 5,
   "metadata": {},
   "outputs": [
    {
     "name": "stdout",
     "output_type": "stream",
     "text": [
      "0, 1, 2, 3, 4, 5, 6, 7, 8, 9, "
     ]
    }
   ],
   "source": [
    "i = 0\n",
    "while(i < 10):\n",
    "  print(i, end=\", \")\n",
    "  i += 1"
   ]
  },
  {
   "cell_type": "code",
   "execution_count": 3,
   "metadata": {},
   "outputs": [
    {
     "name": "stdout",
     "output_type": "stream",
     "text": [
      "0, 1, 2, 3, 4, 5, 6, 7, 8, 9, "
     ]
    }
   ],
   "source": [
    "for i in range(10):\n",
    "  print(i, end= \", \")"
   ]
  },
  {
   "cell_type": "markdown",
   "metadata": {},
   "source": [
    "### Dictionary"
   ]
  },
  {
   "cell_type": "code",
   "execution_count": 6,
   "metadata": {},
   "outputs": [],
   "source": [
    "# key : value\n",
    "# key : \"name\", \"price\", \"year\", \"author\"\n",
    "# values : \"python\", 2000, 2010, \"a1\"\n",
    "# items : (\"name\", \"python\")\n",
    "book = {\n",
    "  \"name\" : \"python\", \n",
    "  \"price\" : 2000, \n",
    "  \"year\": 2010, \n",
    "  \"author\": \"a1\"\n",
    "  }"
   ]
  },
  {
   "cell_type": "code",
   "execution_count": 7,
   "metadata": {},
   "outputs": [
    {
     "name": "stdout",
     "output_type": "stream",
     "text": [
      "{'name': 'python', 'price': 2000, 'year': 2010, 'author': 'a1'}\n"
     ]
    }
   ],
   "source": [
    "print(book)"
   ]
  },
  {
   "cell_type": "code",
   "execution_count": 8,
   "metadata": {},
   "outputs": [
    {
     "name": "stdout",
     "output_type": "stream",
     "text": [
      "<class 'dict'>\n"
     ]
    }
   ],
   "source": [
    "print(type(book))"
   ]
  },
  {
   "cell_type": "code",
   "execution_count": 10,
   "metadata": {},
   "outputs": [
    {
     "name": "stdout",
     "output_type": "stream",
     "text": [
      "<class 'dict'>\n",
      "0\n"
     ]
    }
   ],
   "source": [
    "dict1 = {}\n",
    "print(type(dict1))\n",
    "print(len(dict1))"
   ]
  },
  {
   "cell_type": "code",
   "execution_count": 11,
   "metadata": {},
   "outputs": [
    {
     "name": "stdout",
     "output_type": "stream",
     "text": [
      "<class 'dict'>\n"
     ]
    }
   ],
   "source": [
    "dict2 = dict()\n",
    "print(type(dict2))"
   ]
  },
  {
   "cell_type": "markdown",
   "metadata": {},
   "source": [
    "### read"
   ]
  },
  {
   "cell_type": "code",
   "execution_count": 12,
   "metadata": {},
   "outputs": [
    {
     "name": "stdout",
     "output_type": "stream",
     "text": [
      "2000\n"
     ]
    }
   ],
   "source": [
    "book = {\n",
    "  \"name\" : \"python\", \n",
    "  \"price\" : 2000, \n",
    "  \"year\": 2010, \n",
    "  \"author\": \"a1\"\n",
    "  }\n",
    "print(book[\"price\"])"
   ]
  },
  {
   "cell_type": "code",
   "execution_count": 13,
   "metadata": {},
   "outputs": [
    {
     "ename": "KeyError",
     "evalue": "'pages'",
     "output_type": "error",
     "traceback": [
      "\u001b[0;31m---------------------------------------------------------------------------\u001b[0m",
      "\u001b[0;31mKeyError\u001b[0m                                  Traceback (most recent call last)",
      "\u001b[0;32m/tmp/ipykernel_8069/1520929411.py\u001b[0m in \u001b[0;36m<module>\u001b[0;34m\u001b[0m\n\u001b[0;32m----> 1\u001b[0;31m \u001b[0mprint\u001b[0m\u001b[0;34m(\u001b[0m\u001b[0mbook\u001b[0m\u001b[0;34m[\u001b[0m\u001b[0;34m\"pages\"\u001b[0m\u001b[0;34m]\u001b[0m\u001b[0;34m)\u001b[0m\u001b[0;34m\u001b[0m\u001b[0;34m\u001b[0m\u001b[0m\n\u001b[0m",
      "\u001b[0;31mKeyError\u001b[0m: 'pages'"
     ]
    }
   ],
   "source": [
    "print(book[\"pages\"])"
   ]
  },
  {
   "cell_type": "code",
   "execution_count": 14,
   "metadata": {},
   "outputs": [
    {
     "name": "stdout",
     "output_type": "stream",
     "text": [
      "python\n"
     ]
    }
   ],
   "source": [
    "print(book.get(\"name\"))"
   ]
  },
  {
   "cell_type": "code",
   "execution_count": 17,
   "metadata": {},
   "outputs": [
    {
     "name": "stdout",
     "output_type": "stream",
     "text": [
      "pages not found\n"
     ]
    }
   ],
   "source": [
    "print(book.get(\"pages\", \"pages not found\"))"
   ]
  },
  {
   "cell_type": "markdown",
   "metadata": {},
   "source": [
    "### add"
   ]
  },
  {
   "cell_type": "code",
   "execution_count": 18,
   "metadata": {},
   "outputs": [],
   "source": [
    "book = {\n",
    "  \"name\" : \"python\", \n",
    "  \"price\" : 2000, \n",
    "  \"year\": 2010, \n",
    "  \"author\": \"a1\"\n",
    "  }"
   ]
  },
  {
   "cell_type": "code",
   "execution_count": 19,
   "metadata": {},
   "outputs": [
    {
     "name": "stdout",
     "output_type": "stream",
     "text": [
      "{'name': 'python', 'price': 2000, 'year': 2010, 'author': 'a1', 'pages': 1200}\n"
     ]
    }
   ],
   "source": [
    "book[\"pages\"] = 1200\n",
    "print(book)"
   ]
  },
  {
   "cell_type": "code",
   "execution_count": 20,
   "metadata": {},
   "outputs": [
    {
     "name": "stdout",
     "output_type": "stream",
     "text": [
      "{'name': 'python', 'price': 2000, 'year': 2010, 'author': 'a1', 'pages': 1200, 'lang': 'English', 'publisher': 'p1'}\n"
     ]
    }
   ],
   "source": [
    "book.update({\"lang\":\"English\", \"publisher\":\"p1\"})\n",
    "print(book)"
   ]
  },
  {
   "cell_type": "code",
   "execution_count": 21,
   "metadata": {},
   "outputs": [],
   "source": [
    "book = {\n",
    "  \"name\" : \"c++\", \n",
    "  \"price\" : 2000\n",
    "}\n",
    "book_info = {\n",
    "  \"year\": 2010, \n",
    "  \"author\": \"a1\"\n",
    "}"
   ]
  },
  {
   "cell_type": "code",
   "execution_count": 22,
   "metadata": {},
   "outputs": [
    {
     "name": "stdout",
     "output_type": "stream",
     "text": [
      "{'name': 'c++', 'price': 2000, 'year': 2010, 'author': 'a1'}\n"
     ]
    }
   ],
   "source": [
    "book.update(book_info)\n",
    "print(book)"
   ]
  },
  {
   "cell_type": "code",
   "execution_count": 23,
   "metadata": {},
   "outputs": [],
   "source": [
    "book = {\n",
    "  \"name\" : \"c++\", \n",
    "  \"price\" : 2000\n",
    "}\n",
    "book_info = {\n",
    "  \"year\": 2010, \n",
    "  \"author\": \"a1\"\n",
    "}"
   ]
  },
  {
   "cell_type": "code",
   "execution_count": 24,
   "metadata": {},
   "outputs": [
    {
     "name": "stdout",
     "output_type": "stream",
     "text": [
      "{'name': 'c++', 'price': 2000, 'year': 2010, 'author': 'a1'}\n"
     ]
    }
   ],
   "source": [
    "book |= book_info\n",
    "print(book)"
   ]
  },
  {
   "cell_type": "markdown",
   "metadata": {},
   "source": [
    "### Edit"
   ]
  },
  {
   "cell_type": "code",
   "execution_count": 25,
   "metadata": {},
   "outputs": [],
   "source": [
    "book = {\n",
    "  \"name\" : \"python\", \n",
    "  \"price\" : 2000, \n",
    "  \"year\": 2010, \n",
    "  \"author\": \"a1\"\n",
    "  }"
   ]
  },
  {
   "cell_type": "code",
   "execution_count": 26,
   "metadata": {},
   "outputs": [
    {
     "name": "stdout",
     "output_type": "stream",
     "text": [
      "{'name': 'java', 'price': 2000, 'year': 2010, 'author': 'a1'}\n"
     ]
    }
   ],
   "source": [
    "book[\"name\"] = \"java\"\n",
    "print(book)"
   ]
  },
  {
   "cell_type": "code",
   "execution_count": 27,
   "metadata": {},
   "outputs": [
    {
     "name": "stdout",
     "output_type": "stream",
     "text": [
      "{'name': 'java', 'price': 2000, 'year': 2005, 'author': 'a1', 'lang': 'English'}\n"
     ]
    }
   ],
   "source": [
    "book.update({\"lang\":\"English\", \"year\":2005})\n",
    "print(book)"
   ]
  },
  {
   "cell_type": "markdown",
   "metadata": {},
   "source": [
    "### Remove"
   ]
  },
  {
   "cell_type": "code",
   "execution_count": 28,
   "metadata": {},
   "outputs": [],
   "source": [
    "book = {\n",
    "  \"name\" : \"python\", \n",
    "  \"price\" : 2000, \n",
    "  \"year\": 2010, \n",
    "  \"author\": \"a1\"\n",
    "  }"
   ]
  },
  {
   "cell_type": "code",
   "execution_count": 32,
   "metadata": {},
   "outputs": [
    {
     "name": "stdout",
     "output_type": "stream",
     "text": [
      "not found\n",
      "{'price': 2000, 'year': 2010}\n"
     ]
    }
   ],
   "source": [
    "name = book.pop(\"name1\", \"not found\")\n",
    "print(name)\n",
    "print(book)"
   ]
  },
  {
   "cell_type": "code",
   "execution_count": 30,
   "metadata": {},
   "outputs": [
    {
     "name": "stdout",
     "output_type": "stream",
     "text": [
      "{'price': 2000, 'year': 2010}\n",
      "('author', 'a1')\n"
     ]
    }
   ],
   "source": [
    "item = book.popitem()\n",
    "print(book)\n",
    "print(item)"
   ]
  },
  {
   "cell_type": "code",
   "execution_count": 33,
   "metadata": {},
   "outputs": [],
   "source": [
    "book = {\n",
    "  \"name\" : \"python\", \n",
    "  \"price\" : 2000, \n",
    "  \"year\": 2010, \n",
    "  \"author\": \"a1\"\n",
    "  }"
   ]
  },
  {
   "cell_type": "code",
   "execution_count": 34,
   "metadata": {},
   "outputs": [
    {
     "name": "stdout",
     "output_type": "stream",
     "text": [
      "{'name': 'python', 'year': 2010, 'author': 'a1'}\n"
     ]
    }
   ],
   "source": [
    "del book[\"price\"]\n",
    "print(book)"
   ]
  },
  {
   "cell_type": "code",
   "execution_count": 35,
   "metadata": {},
   "outputs": [
    {
     "name": "stdout",
     "output_type": "stream",
     "text": [
      "{}\n"
     ]
    }
   ],
   "source": [
    "book.clear()\n",
    "print(book)"
   ]
  },
  {
   "cell_type": "code",
   "execution_count": 36,
   "metadata": {},
   "outputs": [
    {
     "ename": "NameError",
     "evalue": "name 'book' is not defined",
     "output_type": "error",
     "traceback": [
      "\u001b[0;31m---------------------------------------------------------------------------\u001b[0m",
      "\u001b[0;31mNameError\u001b[0m                                 Traceback (most recent call last)",
      "\u001b[0;32m/tmp/ipykernel_8069/1380619329.py\u001b[0m in \u001b[0;36m<module>\u001b[0;34m\u001b[0m\n\u001b[1;32m      1\u001b[0m \u001b[0;32mdel\u001b[0m \u001b[0mbook\u001b[0m\u001b[0;34m\u001b[0m\u001b[0;34m\u001b[0m\u001b[0m\n\u001b[0;32m----> 2\u001b[0;31m \u001b[0mprint\u001b[0m\u001b[0;34m(\u001b[0m\u001b[0mbook\u001b[0m\u001b[0;34m)\u001b[0m\u001b[0;34m\u001b[0m\u001b[0;34m\u001b[0m\u001b[0m\n\u001b[0m",
      "\u001b[0;31mNameError\u001b[0m: name 'book' is not defined"
     ]
    }
   ],
   "source": [
    "del book\n",
    "#print(book)"
   ]
  },
  {
   "cell_type": "markdown",
   "metadata": {},
   "source": [
    "### Search"
   ]
  },
  {
   "cell_type": "code",
   "execution_count": 39,
   "metadata": {},
   "outputs": [],
   "source": [
    "book = {\n",
    "  \"name\" : \"python\", \n",
    "  \"price\" : 2000, \n",
    "  \"year\": 2010, \n",
    "  \"author\": \"a1\"\n",
    "  }"
   ]
  },
  {
   "cell_type": "code",
   "execution_count": 41,
   "metadata": {},
   "outputs": [
    {
     "name": "stdout",
     "output_type": "stream",
     "text": [
      "['name', 'price', 'year', 'author']\n"
     ]
    }
   ],
   "source": [
    "book_keys = list(book.keys())\n",
    "print(book_keys)"
   ]
  },
  {
   "cell_type": "code",
   "execution_count": 42,
   "metadata": {},
   "outputs": [
    {
     "name": "stdout",
     "output_type": "stream",
     "text": [
      "['python', 2000, 2010, 'a1']\n"
     ]
    }
   ],
   "source": [
    "book_values = list(book.values())\n",
    "print(book_values)"
   ]
  },
  {
   "cell_type": "code",
   "execution_count": 43,
   "metadata": {},
   "outputs": [
    {
     "name": "stdout",
     "output_type": "stream",
     "text": [
      "[('name', 'python'), ('price', 2000), ('year', 2010), ('author', 'a1')]\n"
     ]
    }
   ],
   "source": [
    "book_items = list(book.items())\n",
    "print(book_items)"
   ]
  },
  {
   "cell_type": "code",
   "execution_count": 45,
   "metadata": {},
   "outputs": [
    {
     "name": "stdout",
     "output_type": "stream",
     "text": [
      "no\n"
     ]
    }
   ],
   "source": [
    "if \"python3\" in book_values:\n",
    "  print(\"yes\")\n",
    "else:\n",
    "  print(\"no\")"
   ]
  },
  {
   "cell_type": "code",
   "execution_count": 47,
   "metadata": {},
   "outputs": [
    {
     "name": "stdout",
     "output_type": "stream",
     "text": [
      "no\n"
     ]
    }
   ],
   "source": [
    "if (\"title\", \"python\") in book_items:\n",
    "  print(\"yes\")\n",
    "else:\n",
    "  print(\"no\")"
   ]
  },
  {
   "cell_type": "code",
   "execution_count": 56,
   "metadata": {},
   "outputs": [
    {
     "name": "stdout",
     "output_type": "stream",
     "text": [
      "yes\n"
     ]
    }
   ],
   "source": [
    "if \"name\" in book:\n",
    "  print(\"yes\")\n",
    "else:\n",
    "  print(\"no\")"
   ]
  },
  {
   "cell_type": "code",
   "execution_count": 52,
   "metadata": {},
   "outputs": [],
   "source": [
    "book = {\n",
    "  \"name\" : \"python\", \n",
    "  \"price\" : 2000, \n",
    "  \"year\": 2010, \n",
    "  \"shop\" : [\"shop1\", \"shop2\", \"shop3\"],\n",
    "  \"author\": \"a1\"\n",
    "  }"
   ]
  },
  {
   "cell_type": "code",
   "execution_count": 54,
   "metadata": {},
   "outputs": [
    {
     "name": "stdout",
     "output_type": "stream",
     "text": [
      "shop2\n"
     ]
    }
   ],
   "source": [
    "print(book[\"shop\"][1])"
   ]
  },
  {
   "cell_type": "markdown",
   "metadata": {},
   "source": [
    "### Loop in dictionary"
   ]
  },
  {
   "cell_type": "code",
   "execution_count": 58,
   "metadata": {},
   "outputs": [
    {
     "name": "stdout",
     "output_type": "stream",
     "text": [
      "name, price, year, shop, author, "
     ]
    }
   ],
   "source": [
    "for i in book:\n",
    "  print(i, end=\", \")"
   ]
  },
  {
   "cell_type": "code",
   "execution_count": 59,
   "metadata": {},
   "outputs": [
    {
     "name": "stdout",
     "output_type": "stream",
     "text": [
      "name, price, year, shop, author, "
     ]
    }
   ],
   "source": [
    "for i in book.keys():\n",
    "  print(i, end=\", \")"
   ]
  },
  {
   "cell_type": "code",
   "execution_count": 60,
   "metadata": {},
   "outputs": [
    {
     "name": "stdout",
     "output_type": "stream",
     "text": [
      "python, 2000, 2010, ['shop1', 'shop2', 'shop3'], a1, "
     ]
    }
   ],
   "source": [
    "for i in book.values():\n",
    "  print(i, end=\", \")"
   ]
  },
  {
   "cell_type": "code",
   "execution_count": 62,
   "metadata": {},
   "outputs": [
    {
     "name": "stdout",
     "output_type": "stream",
     "text": [
      "name python\n",
      "price 2000\n",
      "year 2010\n",
      "shop ['shop1', 'shop2', 'shop3']\n",
      "author a1\n"
     ]
    }
   ],
   "source": [
    "for k, v in book.items():\n",
    "  print(k, v)"
   ]
  },
  {
   "cell_type": "markdown",
   "metadata": {},
   "source": [
    "### list od dicts"
   ]
  },
  {
   "cell_type": "code",
   "execution_count": 64,
   "metadata": {},
   "outputs": [],
   "source": [
    "book1 = {\n",
    "  \"name\" : \"python\", \n",
    "  \"price\" : 2000, \n",
    "  \"year\": 2010, \n",
    "  \"author\": \"a1\"\n",
    "  }\n",
    "book2 = {\n",
    "  \"name\" : \"java\", \n",
    "  \"price\" : 2000, \n",
    "  \"year\": 2000, \n",
    "  \"author\": \"a1\"\n",
    "  }"
   ]
  },
  {
   "cell_type": "code",
   "execution_count": 66,
   "metadata": {},
   "outputs": [
    {
     "name": "stdout",
     "output_type": "stream",
     "text": [
      "[{'name': 'python', 'price': 2000, 'year': 2010, 'author': 'a1'}, {'name': 'java', 'price': 2000, 'year': 2000, 'author': 'a1'}]\n",
      "2\n"
     ]
    }
   ],
   "source": [
    "books = [book1, book2]\n",
    "print(books)\n",
    "print(len(books))"
   ]
  },
  {
   "cell_type": "code",
   "execution_count": 69,
   "metadata": {},
   "outputs": [
    {
     "name": "stdout",
     "output_type": "stream",
     "text": [
      "{'name': 'python', 'price': 2000, 'year': 2010, 'author': 'a1'}\n",
      "2000\n"
     ]
    }
   ],
   "source": [
    "first_book = books[0]\n",
    "price = first_book[\"price\"]\n",
    "print(first_book)\n",
    "print(price)"
   ]
  },
  {
   "cell_type": "code",
   "execution_count": 70,
   "metadata": {},
   "outputs": [
    {
     "name": "stdout",
     "output_type": "stream",
     "text": [
      "2000\n"
     ]
    }
   ],
   "source": [
    "first_book_price = books[0][\"price\"]\n",
    "print(first_book_price)"
   ]
  },
  {
   "cell_type": "code",
   "execution_count": 72,
   "metadata": {},
   "outputs": [
    {
     "name": "stdout",
     "output_type": "stream",
     "text": [
      "[{'name': 'a', 'price': 3, 'year': 4}, {'name': 'd', 'price': 4, 'year': 5}]\n"
     ]
    }
   ],
   "source": [
    "total_books = []\n",
    "for i in range(2):\n",
    "  name = input(\"name of book: \")\n",
    "  price = int(input(\"price of book: \"))\n",
    "  year = int(input(\"year of book: \"))\n",
    "  book = {}\n",
    "  book[\"name\"] = name\n",
    "  book[\"price\"] = price\n",
    "  book[\"year\"] = year\n",
    "  total_books.append(book)\n",
    "print(total_books)"
   ]
  },
  {
   "cell_type": "code",
   "execution_count": 73,
   "metadata": {},
   "outputs": [
    {
     "name": "stdout",
     "output_type": "stream",
     "text": [
      "[{'name': 'a', 'price': 4, 'year': 5}, {'name': 'f', 'price': 4, 'year': 6}]\n"
     ]
    }
   ],
   "source": [
    "total_books = []\n",
    "for i in range(2):\n",
    "  name = input(\"name of book: \")\n",
    "  price = int(input(\"price of book: \"))\n",
    "  year = int(input(\"year of book: \"))\n",
    "  book = {\"name\" : name, \"price\" : price, \"year\" : year}\n",
    "  total_books.append(book)\n",
    "print(total_books)"
   ]
  }
 ],
 "metadata": {
  "kernelspec": {
   "display_name": "base",
   "language": "python",
   "name": "python3"
  },
  "language_info": {
   "codemirror_mode": {
    "name": "ipython",
    "version": 3
   },
   "file_extension": ".py",
   "mimetype": "text/x-python",
   "name": "python",
   "nbconvert_exporter": "python",
   "pygments_lexer": "ipython3",
   "version": "3.9.13"
  },
  "orig_nbformat": 4
 },
 "nbformat": 4,
 "nbformat_minor": 2
}
