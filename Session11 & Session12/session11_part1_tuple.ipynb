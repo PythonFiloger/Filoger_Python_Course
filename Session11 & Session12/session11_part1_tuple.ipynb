{
 "cells": [
  {
   "cell_type": "markdown",
   "metadata": {},
   "source": [
    "## Tuple"
   ]
  },
  {
   "cell_type": "code",
   "execution_count": null,
   "metadata": {},
   "outputs": [],
   "source": [
    "# []  ===> list ====> index- value\n",
    "# {} ===> dict  ====> key- value\n",
    "# ()  ===> tuple ====> index- value\n"
   ]
  },
  {
   "cell_type": "code",
   "execution_count": 1,
   "metadata": {},
   "outputs": [
    {
     "name": "stdout",
     "output_type": "stream",
     "text": [
      "(3, 12, 14, 45)\n",
      "<class 'tuple'>\n"
     ]
    }
   ],
   "source": [
    "t1 = (3, 12, 14, 45)\n",
    "print(t1)\n",
    "print(type(t1))"
   ]
  },
  {
   "cell_type": "code",
   "execution_count": 2,
   "metadata": {},
   "outputs": [
    {
     "name": "stdout",
     "output_type": "stream",
     "text": [
      "(3, 1.3, True, 'python')\n"
     ]
    }
   ],
   "source": [
    "t2 = (3, 1.3, True, \"python\")\n",
    "print(t2)"
   ]
  },
  {
   "cell_type": "markdown",
   "metadata": {},
   "source": [
    "### Define"
   ]
  },
  {
   "cell_type": "code",
   "execution_count": 5,
   "metadata": {},
   "outputs": [
    {
     "name": "stdout",
     "output_type": "stream",
     "text": [
      "<class 'tuple'>\n",
      "<class 'tuple'>\n",
      "0\n"
     ]
    }
   ],
   "source": [
    "t1 = ()\n",
    "print(type(t1))\n",
    "t2 = tuple()\n",
    "print(type(t2))\n",
    "# length ====> len()\n",
    "print(len(t1))"
   ]
  },
  {
   "cell_type": "code",
   "execution_count": 9,
   "metadata": {},
   "outputs": [
    {
     "name": "stdout",
     "output_type": "stream",
     "text": [
      "<class 'tuple'>\n",
      "1\n"
     ]
    }
   ],
   "source": [
    "t1 = (20,)\n",
    "print(type(t1))\n",
    "print(len(t1))"
   ]
  },
  {
   "cell_type": "code",
   "execution_count": 10,
   "metadata": {},
   "outputs": [
    {
     "name": "stdout",
     "output_type": "stream",
     "text": [
      "<class 'tuple'>\n",
      "(4, 45, 12, 13)\n"
     ]
    }
   ],
   "source": [
    "t2 = 4, 45, 12, 13\n",
    "print(type(t2))\n",
    "print(t2)"
   ]
  },
  {
   "cell_type": "markdown",
   "metadata": {},
   "source": [
    "## Read"
   ]
  },
  {
   "cell_type": "code",
   "execution_count": 14,
   "metadata": {},
   "outputs": [
    {
     "name": "stdout",
     "output_type": "stream",
     "text": [
      "(3, 12, 14, 45)\n",
      "12\n",
      "(3, 12)\n",
      "45\n"
     ]
    }
   ],
   "source": [
    "t1 = (3, 12, 14, 45)\n",
    "print(t1)\n",
    "print(t1[1])\n",
    "print(t1[:2])\n",
    "print(t1[-1])"
   ]
  },
  {
   "cell_type": "code",
   "execution_count": 26,
   "metadata": {},
   "outputs": [
    {
     "name": "stdout",
     "output_type": "stream",
     "text": [
      "3, 12, 14, 45\n"
     ]
    }
   ],
   "source": [
    "t1 = (3, 12, 14, 45)\n",
    "for x in t1[:3]:\n",
    "  print(x, end=\", \")\n",
    "print(t1[3])"
   ]
  },
  {
   "cell_type": "markdown",
   "metadata": {},
   "source": [
    "## Add, Edit, Remov"
   ]
  },
  {
   "cell_type": "code",
   "execution_count": 23,
   "metadata": {},
   "outputs": [
    {
     "name": "stdout",
     "output_type": "stream",
     "text": [
      "(3, 12, 14, 45) <class 'tuple'>\n",
      "[3, 12, 14, 45] <class 'list'>\n",
      "[3, 20, 12, 14, 45, 200] <class 'list'>\n",
      "(3, 20, 12, 14, 45, 200) <class 'tuple'>\n"
     ]
    }
   ],
   "source": [
    "t1 = (3, 12, 14, 45)\n",
    "print(t1, type(t1))\n",
    "# Modify ===> list()\n",
    "t1 = list(t1)\n",
    "print(t1, type(t1))\n",
    "# add\n",
    "t1.append(200)\n",
    "t1.insert(1, 20)\n",
    "print(t1, type(t1))\n",
    "# Modify ====> tuple()\n",
    "t1 = tuple(t1)\n",
    "print(t1, type(t1))"
   ]
  },
  {
   "cell_type": "code",
   "execution_count": 58,
   "metadata": {},
   "outputs": [
    {
     "name": "stdout",
     "output_type": "stream",
     "text": [
      "(3, 12, 14, 45, 50)\n"
     ]
    }
   ],
   "source": [
    "t1 = (3, 12, 14, 45)\n",
    "t1 = t1 + (50,)\n",
    "print(t1)"
   ]
  },
  {
   "cell_type": "code",
   "execution_count": 27,
   "metadata": {},
   "outputs": [
    {
     "name": "stdout",
     "output_type": "stream",
     "text": [
      "(3, 12, 14, 45) <class 'tuple'>\n",
      "[3, 12, 14, 45] <class 'list'>\n",
      "[3, 12, 200, 45] <class 'list'>\n",
      "(3, 12, 200, 45) <class 'tuple'>\n"
     ]
    }
   ],
   "source": [
    "t1 = (3, 12, 14, 45)\n",
    "print(t1, type(t1))\n",
    "# Modify ===> list()\n",
    "t1 = list(t1)\n",
    "print(t1, type(t1))\n",
    "# edit\n",
    "t1[2] = 200\n",
    "print(t1, type(t1))\n",
    "# Modify ====> tuple()\n",
    "t1 = tuple(t1)\n",
    "print(t1, type(t1))"
   ]
  },
  {
   "cell_type": "code",
   "execution_count": 29,
   "metadata": {},
   "outputs": [
    {
     "name": "stdout",
     "output_type": "stream",
     "text": [
      "(3, 12, 14, 45) <class 'tuple'>\n",
      "[3, 12, 14, 45] <class 'list'>\n",
      "[3, 12, 45] <class 'list'>\n",
      "(3, 12, 45) <class 'tuple'>\n"
     ]
    }
   ],
   "source": [
    "t1 = (3, 12, 14, 45)\n",
    "print(t1, type(t1))\n",
    "# Modify ===> list()\n",
    "t1 = list(t1)\n",
    "print(t1, type(t1))\n",
    "# remove\n",
    "t1.remove(14)\n",
    "print(t1, type(t1))\n",
    "# Modify ====> tuple()\n",
    "t1 = tuple(t1)\n",
    "print(t1, type(t1))"
   ]
  },
  {
   "cell_type": "markdown",
   "metadata": {},
   "source": [
    "## Search"
   ]
  },
  {
   "cell_type": "code",
   "execution_count": 31,
   "metadata": {},
   "outputs": [],
   "source": [
    "t1 = (3, 12, 13, 16)\n",
    "# in, not in\n",
    "if 3 not in t1:\n",
    "  print(t1)"
   ]
  },
  {
   "cell_type": "markdown",
   "metadata": {},
   "source": [
    "## Methods"
   ]
  },
  {
   "cell_type": "code",
   "execution_count": 35,
   "metadata": {},
   "outputs": [
    {
     "name": "stdout",
     "output_type": "stream",
     "text": [
      "2\n",
      "2\n"
     ]
    }
   ],
   "source": [
    "t1 = (3, 12, 13, 16, 12)\n",
    "c = t1.count(12)\n",
    "i = t1.index(13)\n",
    "print(c)\n",
    "print(i)"
   ]
  },
  {
   "cell_type": "markdown",
   "metadata": {},
   "source": [
    "## Del"
   ]
  },
  {
   "cell_type": "code",
   "execution_count": 71,
   "metadata": {},
   "outputs": [
    {
     "ename": "NameError",
     "evalue": "name 't1' is not defined",
     "output_type": "error",
     "traceback": [
      "\u001b[0;31m---------------------------------------------------------------------------\u001b[0m",
      "\u001b[0;31mNameError\u001b[0m                                 Traceback (most recent call last)",
      "\u001b[0;32m/tmp/ipykernel_11092/882874233.py\u001b[0m in \u001b[0;36m<module>\u001b[0;34m\u001b[0m\n\u001b[1;32m      1\u001b[0m \u001b[0mt1\u001b[0m \u001b[0;34m=\u001b[0m \u001b[0;34m(\u001b[0m\u001b[0;36m3\u001b[0m\u001b[0;34m,\u001b[0m \u001b[0;36m12\u001b[0m\u001b[0;34m)\u001b[0m\u001b[0;34m\u001b[0m\u001b[0;34m\u001b[0m\u001b[0m\n\u001b[1;32m      2\u001b[0m \u001b[0;32mdel\u001b[0m \u001b[0mt1\u001b[0m\u001b[0;34m\u001b[0m\u001b[0;34m\u001b[0m\u001b[0m\n\u001b[0;32m----> 3\u001b[0;31m \u001b[0mprint\u001b[0m\u001b[0;34m(\u001b[0m\u001b[0mt1\u001b[0m\u001b[0;34m)\u001b[0m\u001b[0;34m\u001b[0m\u001b[0;34m\u001b[0m\u001b[0m\n\u001b[0m",
      "\u001b[0;31mNameError\u001b[0m: name 't1' is not defined"
     ]
    }
   ],
   "source": [
    "t1 = (3, 12)\n",
    "del t1\n",
    "print(t1)"
   ]
  },
  {
   "cell_type": "markdown",
   "metadata": {},
   "source": [
    "## Sort"
   ]
  },
  {
   "cell_type": "code",
   "execution_count": 38,
   "metadata": {},
   "outputs": [
    {
     "name": "stdout",
     "output_type": "stream",
     "text": [
      "(16, 13, 12, 10, 3)\n"
     ]
    }
   ],
   "source": [
    "t1 = (3, 12, 10, 13, 16)\n",
    "t2 = tuple(sorted(t1, reverse=True))\n",
    "print(t2)"
   ]
  },
  {
   "cell_type": "code",
   "execution_count": 41,
   "metadata": {},
   "outputs": [
    {
     "name": "stdout",
     "output_type": "stream",
     "text": [
      "(3, 12, 13, 16)\n"
     ]
    }
   ],
   "source": [
    "t1 = (3, 12, 13, 16)\n",
    "t1 = list(t1)\n",
    "t1.sort()\n",
    "print(tuple(t1))"
   ]
  },
  {
   "cell_type": "markdown",
   "metadata": {},
   "source": [
    "### Points"
   ]
  },
  {
   "cell_type": "code",
   "execution_count": 51,
   "metadata": {},
   "outputs": [],
   "source": [
    "def function1(num1, num2):\n",
    "  res1 = num1 + num2\n",
    "  res2 = num1 - num2\n",
    "  res3 = num1 * num2\n",
    "  return res1, \"python\", res3"
   ]
  },
  {
   "cell_type": "code",
   "execution_count": 54,
   "metadata": {},
   "outputs": [
    {
     "name": "stdout",
     "output_type": "stream",
     "text": [
      "15 python 36\n"
     ]
    },
    {
     "ename": "TypeError",
     "evalue": "can only concatenate str (not \"int\") to str",
     "output_type": "error",
     "traceback": [
      "\u001b[0;31m---------------------------------------------------------------------------\u001b[0m",
      "\u001b[0;31mTypeError\u001b[0m                                 Traceback (most recent call last)",
      "\u001b[0;32m/tmp/ipykernel_11092/3943793832.py\u001b[0m in \u001b[0;36m<module>\u001b[0;34m\u001b[0m\n\u001b[1;32m      1\u001b[0m \u001b[0msum_\u001b[0m\u001b[0;34m,\u001b[0m \u001b[0mminus\u001b[0m\u001b[0;34m,\u001b[0m \u001b[0mmulti\u001b[0m \u001b[0;34m=\u001b[0m \u001b[0mfunction1\u001b[0m\u001b[0;34m(\u001b[0m\u001b[0;36m3\u001b[0m\u001b[0;34m,\u001b[0m \u001b[0;36m12\u001b[0m\u001b[0;34m)\u001b[0m\u001b[0;34m\u001b[0m\u001b[0;34m\u001b[0m\u001b[0m\n\u001b[1;32m      2\u001b[0m \u001b[0mprint\u001b[0m\u001b[0;34m(\u001b[0m\u001b[0msum_\u001b[0m\u001b[0;34m,\u001b[0m \u001b[0mminus\u001b[0m\u001b[0;34m,\u001b[0m \u001b[0mmulti\u001b[0m\u001b[0;34m)\u001b[0m\u001b[0;34m\u001b[0m\u001b[0;34m\u001b[0m\u001b[0m\n\u001b[0;32m----> 3\u001b[0;31m \u001b[0mprint\u001b[0m\u001b[0;34m(\u001b[0m\u001b[0mminus\u001b[0m \u001b[0;34m+\u001b[0m \u001b[0mmulti\u001b[0m\u001b[0;34m)\u001b[0m\u001b[0;34m\u001b[0m\u001b[0;34m\u001b[0m\u001b[0m\n\u001b[0m",
      "\u001b[0;31mTypeError\u001b[0m: can only concatenate str (not \"int\") to str"
     ]
    }
   ],
   "source": [
    "sum_, minus, multi = function1(3, 12)\n",
    "print(sum_, minus, multi)\n",
    "print(minus + multi)"
   ]
  },
  {
   "cell_type": "code",
   "execution_count": 53,
   "metadata": {},
   "outputs": [
    {
     "name": "stdout",
     "output_type": "stream",
     "text": [
      "(15, 'python', 36)\n"
     ]
    }
   ],
   "source": [
    "result = function1(3, 12)\n",
    "print(result)"
   ]
  },
  {
   "cell_type": "code",
   "execution_count": 46,
   "metadata": {},
   "outputs": [
    {
     "name": "stdout",
     "output_type": "stream",
     "text": [
      "12 13 14\n"
     ]
    }
   ],
   "source": [
    "x, y, z = (12, 13, 14)\n",
    "print(x, y, z)"
   ]
  },
  {
   "cell_type": "code",
   "execution_count": 48,
   "metadata": {},
   "outputs": [
    {
     "name": "stdout",
     "output_type": "stream",
     "text": [
      "12 13 [14, 50]\n"
     ]
    }
   ],
   "source": [
    "x, y, *z = 12, 13, 14, 50\n",
    "print(x, y, z)"
   ]
  },
  {
   "cell_type": "code",
   "execution_count": 49,
   "metadata": {},
   "outputs": [
    {
     "name": "stdout",
     "output_type": "stream",
     "text": [
      "12 [13, 14] 50\n"
     ]
    }
   ],
   "source": [
    "x, *y, z = 12, 13, 14, 50\n",
    "print(x, y, z)"
   ]
  },
  {
   "cell_type": "code",
   "execution_count": 50,
   "metadata": {},
   "outputs": [
    {
     "name": "stdout",
     "output_type": "stream",
     "text": [
      "[12, 13] 14 50\n"
     ]
    }
   ],
   "source": [
    "*x, y, z = 12, 13, 14, 50\n",
    "print(x, y, z)"
   ]
  },
  {
   "cell_type": "markdown",
   "metadata": {},
   "source": [
    "## Join"
   ]
  },
  {
   "cell_type": "code",
   "execution_count": 57,
   "metadata": {},
   "outputs": [
    {
     "name": "stdout",
     "output_type": "stream",
     "text": [
      "(12, 13, 14, 50, 30, 40) (30, 40, 30, 40, 30, 40)\n"
     ]
    }
   ],
   "source": [
    "t1 = (12, 13, 14, 50)\n",
    "t2 = (30, 40)\n",
    "t3 = t1 + t2\n",
    "t4 = t2 * 3\n",
    "print(t3, t4)"
   ]
  },
  {
   "cell_type": "markdown",
   "metadata": {},
   "source": [
    "## zip"
   ]
  },
  {
   "cell_type": "code",
   "execution_count": 69,
   "metadata": {},
   "outputs": [
    {
     "name": "stdout",
     "output_type": "stream",
     "text": [
      "(('p1', 200, 'r'), ('p2', 130, 'b'), ('p3', 300, 'y'))\n"
     ]
    }
   ],
   "source": [
    "name = [\"p1\", \"p2\", \"p3\"]\n",
    "price = (200, 130, 300)\n",
    "color = (\"r\", \"b\", \"y\")\n",
    "products = tuple(zip(name, price, color))\n",
    "print(products)"
   ]
  },
  {
   "cell_type": "code",
   "execution_count": 63,
   "metadata": {},
   "outputs": [
    {
     "name": "stdout",
     "output_type": "stream",
     "text": [
      "200\n",
      "130\n",
      "300\n"
     ]
    }
   ],
   "source": [
    "for n, p, c in products:\n",
    "  print(p)"
   ]
  },
  {
   "cell_type": "code",
   "execution_count": 67,
   "metadata": {},
   "outputs": [
    {
     "name": "stdout",
     "output_type": "stream",
     "text": [
      "0 3\n",
      "1 4\n",
      "2 12\n",
      "3 15\n"
     ]
    }
   ],
   "source": [
    "list1 = [3, 4, 12, 15]\n",
    "result = list(enumerate(list1))\n",
    "for i, v in result:\n",
    "  print(i, v)"
   ]
  }
 ],
 "metadata": {
  "kernelspec": {
   "display_name": "base",
   "language": "python",
   "name": "python3"
  },
  "language_info": {
   "codemirror_mode": {
    "name": "ipython",
    "version": 3
   },
   "file_extension": ".py",
   "mimetype": "text/x-python",
   "name": "python",
   "nbconvert_exporter": "python",
   "pygments_lexer": "ipython3",
   "version": "3.9.13"
  },
  "orig_nbformat": 4
 },
 "nbformat": 4,
 "nbformat_minor": 2
}
