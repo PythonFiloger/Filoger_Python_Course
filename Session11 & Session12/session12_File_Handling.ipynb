{
 "cells": [
  {
   "cell_type": "markdown",
   "metadata": {},
   "source": [
    "## Session12 (File Handling)"
   ]
  },
  {
   "cell_type": "code",
   "execution_count": 3,
   "metadata": {},
   "outputs": [
    {
     "name": "stdout",
     "output_type": "stream",
     "text": [
      "[12, 12.7, 18, 15]\n"
     ]
    }
   ],
   "source": [
    "list1 = [12, 12.7, 18]\n",
    "list1.append(15)\n",
    "print(list1)"
   ]
  },
  {
   "cell_type": "code",
   "execution_count": null,
   "metadata": {},
   "outputs": [],
   "source": [
    "# binary\n",
    "# text"
   ]
  },
  {
   "cell_type": "code",
   "execution_count": null,
   "metadata": {},
   "outputs": [],
   "source": [
    "# open   open\n",
    "# read   write\n",
    "# close  close"
   ]
  },
  {
   "cell_type": "code",
   "execution_count": null,
   "metadata": {},
   "outputs": [],
   "source": [
    "# mode\n",
    "# r ====> read\n",
    "# w ====> write\n",
    "# a\n",
    "# x"
   ]
  },
  {
   "cell_type": "code",
   "execution_count": 21,
   "metadata": {},
   "outputs": [
    {
     "name": "stdout",
     "output_type": "stream",
     "text": [
      "True\n",
      "False\n",
      "False\n",
      "True\n",
      "python\n",
      " java\n"
     ]
    }
   ],
   "source": [
    "# if file dosen't exist: Error\n",
    "# pointer: start of the file\n",
    "file = open(\"t1.txt\", \"r\")\n",
    "#data = file.read()\n",
    "line1 = file.readline()\n",
    "line2 = file.readline()\n",
    "print(file.readable())\n",
    "print(file.writable())\n",
    "print(file.closed)\n",
    "#lines = file.readlines()\n",
    "file.close()\n",
    "print(file.closed)\n",
    "print(line1, line2)"
   ]
  },
  {
   "cell_type": "code",
   "execution_count": 23,
   "metadata": {},
   "outputs": [],
   "source": [
    "# if file dosen't exist: Create\n",
    "# pointer: start of the file\n",
    "file = open(\"t10.txt\", \"w\")\n",
    "file.write(\"C++\")\n",
    "file.close()\n"
   ]
  },
  {
   "cell_type": "code",
   "execution_count": 26,
   "metadata": {},
   "outputs": [
    {
     "name": "stdout",
     "output_type": "stream",
     "text": [
      "True\n",
      "False\n"
     ]
    }
   ],
   "source": [
    "# if file dosen't exist: Create\n",
    "# pointer: end of the file\n",
    "file = open(\"t10.txt\", \"a\")\n",
    "file.write(\"\\npython\")\n",
    "print(file.writable())\n",
    "print(file.readable())\n",
    "file.close()\n"
   ]
  },
  {
   "cell_type": "code",
   "execution_count": 28,
   "metadata": {},
   "outputs": [],
   "source": [
    "file = open(\"t12.txt\", \"x\")\n",
    "file.write(\"java\")\n",
    "file.close()"
   ]
  },
  {
   "cell_type": "markdown",
   "metadata": {},
   "source": [
    "### Read"
   ]
  },
  {
   "cell_type": "code",
   "execution_count": 30,
   "metadata": {},
   "outputs": [
    {
     "name": "stdout",
     "output_type": "stream",
     "text": [
      "False\n",
      "True\n"
     ]
    }
   ],
   "source": [
    "with open(\"t1.txt\", \"r\") as file:\n",
    "  data = file.read()"
   ]
  },
  {
   "cell_type": "markdown",
   "metadata": {},
   "source": [
    "## Write"
   ]
  },
  {
   "cell_type": "code",
   "execution_count": 32,
   "metadata": {},
   "outputs": [],
   "source": [
    "with open(\"t01.txt\", \"x\") as file:\n",
    "  file.write(\"java\")"
   ]
  },
  {
   "cell_type": "markdown",
   "metadata": {},
   "source": [
    "### Example"
   ]
  },
  {
   "cell_type": "code",
   "execution_count": null,
   "metadata": {},
   "outputs": [],
   "source": [
    "# step1: path   XXXXXXX\n",
    "# step2: find all files  xxxxxxxx\n",
    "# step3: find exts   XXXXXXX\n",
    "# step4: create folder based on exts   XXXXXXXXX\n",
    "# step5: cut files\n",
    "    ## step1: read a file  xxxxxxxxxxxx\n",
    "    ## step2: write to the new path  xxxxxxxxxxx\n",
    "    ## step3: remove file from old path"
   ]
  },
  {
   "cell_type": "code",
   "execution_count": 34,
   "metadata": {},
   "outputs": [],
   "source": [
    "import os"
   ]
  },
  {
   "cell_type": "code",
   "execution_count": 47,
   "metadata": {},
   "outputs": [],
   "source": [
    "def find_files(path):\n",
    "  files_with_path = []\n",
    "  for p, dirs, files in os.walk(path):\n",
    "    for f in files:\n",
    "      f_path = os.path.join(p, f)\n",
    "      files_with_path.append(f_path)\n",
    "  return files_with_path"
   ]
  },
  {
   "cell_type": "code",
   "execution_count": 51,
   "metadata": {},
   "outputs": [],
   "source": [
    "def find_file_exts(files):\n",
    "  exts = set()\n",
    "  for f in files:\n",
    "    ext = f.split(\".\")[-1]\n",
    "    exts.add(ext)\n",
    "  return exts"
   ]
  },
  {
   "cell_type": "code",
   "execution_count": 57,
   "metadata": {},
   "outputs": [],
   "source": [
    "def create_dirs(path, exts):\n",
    "  for x in exts:\n",
    "    name = f\"folder_{x}\"\n",
    "    new_path = os.path.join(path, name)\n",
    "    os.mkdir(name)"
   ]
  },
  {
   "cell_type": "code",
   "execution_count": 75,
   "metadata": {},
   "outputs": [],
   "source": [
    "def cut_files(path, files):\n",
    "  for f in files:\n",
    "    # read files ===> f\n",
    "    with open(f, \"r\") as f_read:\n",
    "      data = f_read.read()\n",
    "    # write files =====> data\n",
    "    name = os.path.basename(f) # oop.py\n",
    "    # /home/zahra/Desktop/Files/folder_py/oop.py\n",
    "    ext = name.split(\".\")[-1] # [\"oop\", \"py\"] ===> py\n",
    "    name_dir = f\"folder_{ext}\" # folder_py\n",
    "    new_path = os.path.join(path, name_dir, name)\n",
    "    with open(new_path, \"w\") as f_write:\n",
    "      f_write(data)\n",
    "    os.remove(f)\n",
    "    "
   ]
  },
  {
   "cell_type": "code",
   "execution_count": 33,
   "metadata": {},
   "outputs": [],
   "source": [
    "path = \"/home/zahra/Desktop/Files\""
   ]
  },
  {
   "cell_type": "code",
   "execution_count": 48,
   "metadata": {},
   "outputs": [
    {
     "name": "stdout",
     "output_type": "stream",
     "text": [
      "['/home/zahra/Desktop/Files/t10.txt', '/home/zahra/Desktop/Files/t9.txt', '/home/zahra/Desktop/Files/oop.py', '/home/zahra/Desktop/Files/person.py', '/home/zahra/Desktop/Files/uid.py', '/home/zahra/Desktop/Files/test3.ipynb', '/home/zahra/Desktop/Files/student.py', '/home/zahra/Desktop/Files/teacher.py', '/home/zahra/Desktop/Files/Session1.ipynb', '/home/zahra/Desktop/Files/t7.txt', '/home/zahra/Desktop/Files/Session3.ipynb', '/home/zahra/Desktop/Files/session1.ipynb', '/home/zahra/Desktop/Files/Session10_BookingCars.py', '/home/zahra/Desktop/Files/products.py', '/home/zahra/Desktop/Files/new/example_file.bin', '/home/zahra/Desktop/Files/new/ds_new.csv', '/home/zahra/Desktop/Files/new/course.py', '/home/zahra/Desktop/Files/new/gh.ipynb', '/home/zahra/Desktop/Files/new/example2_file.bin']\n"
     ]
    }
   ],
   "source": [
    "files = find_files(path)\n",
    "print(files)"
   ]
  },
  {
   "cell_type": "code",
   "execution_count": 52,
   "metadata": {},
   "outputs": [
    {
     "name": "stdout",
     "output_type": "stream",
     "text": [
      "{'ipynb', 'txt', 'bin', 'csv', 'py'}\n"
     ]
    }
   ],
   "source": [
    "exts = find_file_exts(files)\n",
    "print(exts)"
   ]
  },
  {
   "cell_type": "code",
   "execution_count": 58,
   "metadata": {},
   "outputs": [],
   "source": [
    "create_dirs(path, exts)"
   ]
  },
  {
   "cell_type": "code",
   "execution_count": 76,
   "metadata": {},
   "outputs": [
    {
     "ename": "FileNotFoundError",
     "evalue": "[Errno 2] No such file or directory: '/home/zahra/Desktop/Files/t10.txt'",
     "output_type": "error",
     "traceback": [
      "\u001b[0;31m---------------------------------------------------------------------------\u001b[0m",
      "\u001b[0;31mFileNotFoundError\u001b[0m                         Traceback (most recent call last)",
      "\u001b[0;32m/tmp/ipykernel_6679/3984987622.py\u001b[0m in \u001b[0;36m<module>\u001b[0;34m\u001b[0m\n\u001b[0;32m----> 1\u001b[0;31m \u001b[0mcut_files\u001b[0m\u001b[0;34m(\u001b[0m\u001b[0mpath\u001b[0m\u001b[0;34m,\u001b[0m \u001b[0mfiles\u001b[0m\u001b[0;34m)\u001b[0m\u001b[0;34m\u001b[0m\u001b[0;34m\u001b[0m\u001b[0m\n\u001b[0m",
      "\u001b[0;32m/tmp/ipykernel_6679/2932324894.py\u001b[0m in \u001b[0;36mcut_files\u001b[0;34m(path, files)\u001b[0m\n\u001b[1;32m      2\u001b[0m   \u001b[0;32mfor\u001b[0m \u001b[0mf\u001b[0m \u001b[0;32min\u001b[0m \u001b[0mfiles\u001b[0m\u001b[0;34m:\u001b[0m\u001b[0;34m\u001b[0m\u001b[0;34m\u001b[0m\u001b[0m\n\u001b[1;32m      3\u001b[0m     \u001b[0;31m# read files ===> f\u001b[0m\u001b[0;34m\u001b[0m\u001b[0;34m\u001b[0m\u001b[0m\n\u001b[0;32m----> 4\u001b[0;31m     \u001b[0;32mwith\u001b[0m \u001b[0mopen\u001b[0m\u001b[0;34m(\u001b[0m\u001b[0mf\u001b[0m\u001b[0;34m,\u001b[0m \u001b[0;34m\"r\"\u001b[0m\u001b[0;34m)\u001b[0m \u001b[0;32mas\u001b[0m \u001b[0mf_read\u001b[0m\u001b[0;34m:\u001b[0m\u001b[0;34m\u001b[0m\u001b[0;34m\u001b[0m\u001b[0m\n\u001b[0m\u001b[1;32m      5\u001b[0m       \u001b[0mdata\u001b[0m \u001b[0;34m=\u001b[0m \u001b[0mf_read\u001b[0m\u001b[0;34m.\u001b[0m\u001b[0mread\u001b[0m\u001b[0;34m(\u001b[0m\u001b[0;34m)\u001b[0m\u001b[0;34m\u001b[0m\u001b[0;34m\u001b[0m\u001b[0m\n\u001b[1;32m      6\u001b[0m     \u001b[0;31m# write files =====> data\u001b[0m\u001b[0;34m\u001b[0m\u001b[0;34m\u001b[0m\u001b[0m\n",
      "\u001b[0;31mFileNotFoundError\u001b[0m: [Errno 2] No such file or directory: '/home/zahra/Desktop/Files/t10.txt'"
     ]
    }
   ],
   "source": [
    "cut_files(path, files)"
   ]
  },
  {
   "cell_type": "code",
   "execution_count": 78,
   "metadata": {},
   "outputs": [
    {
     "ename": "TypeError",
     "evalue": "'int' object is not callable",
     "output_type": "error",
     "traceback": [
      "\u001b[0;31m---------------------------------------------------------------------------\u001b[0m",
      "\u001b[0;31mTypeError\u001b[0m                                 Traceback (most recent call last)",
      "\u001b[0;32m/tmp/ipykernel_6679/343949174.py\u001b[0m in \u001b[0;36m<module>\u001b[0;34m\u001b[0m\n\u001b[1;32m      1\u001b[0m \u001b[0mx\u001b[0m \u001b[0;34m=\u001b[0m \u001b[0;36m12\u001b[0m\u001b[0;34m\u001b[0m\u001b[0;34m\u001b[0m\u001b[0m\n\u001b[1;32m      2\u001b[0m \u001b[0mwrit2\u001b[0m \u001b[0;34m=\u001b[0m \u001b[0;36m12\u001b[0m\u001b[0;34m\u001b[0m\u001b[0;34m\u001b[0m\u001b[0m\n\u001b[0;32m----> 3\u001b[0;31m \u001b[0mwrit2\u001b[0m\u001b[0;34m(\u001b[0m\u001b[0mx\u001b[0m\u001b[0;34m)\u001b[0m\u001b[0;34m\u001b[0m\u001b[0;34m\u001b[0m\u001b[0m\n\u001b[0m",
      "\u001b[0;31mTypeError\u001b[0m: 'int' object is not callable"
     ]
    }
   ],
   "source": [
    "x = 12\n",
    "writ2 = 12\n",
    "writ2(x)"
   ]
  }
 ],
 "metadata": {
  "kernelspec": {
   "display_name": "Python 3 (ipykernel)",
   "language": "python",
   "name": "python3"
  },
  "language_info": {
   "codemirror_mode": {
    "name": "ipython",
    "version": 3
   },
   "file_extension": ".py",
   "mimetype": "text/x-python",
   "name": "python",
   "nbconvert_exporter": "python",
   "pygments_lexer": "ipython3",
   "version": "3.10.12"
  }
 },
 "nbformat": 4,
 "nbformat_minor": 2
}
