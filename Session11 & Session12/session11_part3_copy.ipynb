{
 "cells": [
  {
   "cell_type": "markdown",
   "metadata": {},
   "source": [
    "### Copy"
   ]
  },
  {
   "cell_type": "code",
   "execution_count": 1,
   "metadata": {},
   "outputs": [
    {
     "name": "stdout",
     "output_type": "stream",
     "text": [
      "(4, 13, 12) (4, 13, 12)\n"
     ]
    }
   ],
   "source": [
    "t1 = (4, 13, 12)\n",
    "t2 = tuple(t1)\n",
    "print(t1, t2)"
   ]
  },
  {
   "cell_type": "markdown",
   "metadata": {},
   "source": [
    "### List"
   ]
  },
  {
   "cell_type": "code",
   "execution_count": 9,
   "metadata": {},
   "outputs": [
    {
     "name": "stdout",
     "output_type": "stream",
     "text": [
      "True\n",
      "False\n",
      "True\n",
      "140392687296000\n",
      "140392687296000\n",
      "140392203489088\n",
      "[2, 3, 5, 3000] [2, 3, 5, 3000]\n"
     ]
    }
   ],
   "source": [
    "list1 = [2, 3, 5]\n",
    "list2 = [2, 3, 5]\n",
    "list3 = list1\n",
    "print(list1 == list2)\n",
    "print(list1 is list2)\n",
    "print(list1 is list3)\n",
    "print(id(list1))\n",
    "print(id(list3))\n",
    "print(id(list2))\n",
    "list1.append(3000)\n",
    "print(list1, list3)"
   ]
  },
  {
   "cell_type": "code",
   "execution_count": 10,
   "metadata": {},
   "outputs": [
    {
     "name": "stdout",
     "output_type": "stream",
     "text": [
      "[2, 3, 5, 3000] [2, 3, 5]\n"
     ]
    }
   ],
   "source": [
    "list1 = [2, 3, 5]\n",
    "list2 = [2, 3, 5]\n",
    "list3 = list1[:] # shallow copy\n",
    "list1.append(3000)\n",
    "print(list1, list3)"
   ]
  },
  {
   "cell_type": "code",
   "execution_count": 13,
   "metadata": {},
   "outputs": [
    {
     "name": "stdout",
     "output_type": "stream",
     "text": [
      "5\n",
      "[1, 2, 4, [3, 200, 7]] [1, 2, 4, [3, 200, 7]]\n"
     ]
    }
   ],
   "source": [
    "list1 = [1, 2, 4, [3, 5, 7]]\n",
    "print(list1[3][1])\n",
    "list3 = list1[:] # shallow copy\n",
    "list1[3][1] = 200\n",
    "print(list1, list3)"
   ]
  },
  {
   "cell_type": "markdown",
   "metadata": {},
   "source": [
    "### deapcopy"
   ]
  },
  {
   "cell_type": "code",
   "execution_count": 14,
   "metadata": {},
   "outputs": [
    {
     "name": "stdout",
     "output_type": "stream",
     "text": [
      "5\n",
      "[1, 2, 4, [3, 200, 7]] [1, 2, 4, [3, 5, 7]]\n"
     ]
    }
   ],
   "source": [
    "import copy\n",
    "list1 = [1, 2, 4, [3, 5, 7]]\n",
    "print(list1[3][1])\n",
    "list3 = copy.deepcopy(list1)\n",
    "list1[3][1] = 200\n",
    "print(list1, list3)"
   ]
  },
  {
   "cell_type": "markdown",
   "metadata": {},
   "source": [
    "### dictionary"
   ]
  },
  {
   "cell_type": "code",
   "execution_count": 15,
   "metadata": {},
   "outputs": [],
   "source": [
    "dict1 = {\n",
    "  \"a\" : 2,\n",
    "  \"b\" : {\"c\": 20, \"d\":5}\n",
    "}"
   ]
  },
  {
   "cell_type": "code",
   "execution_count": 18,
   "metadata": {},
   "outputs": [
    {
     "name": "stdout",
     "output_type": "stream",
     "text": [
      "{'a': 2, 'b': {'c': 20, 'd': 5}}\n",
      "{'a': 2, 'b': {'c': 200, 'd': 5}}\n",
      "{'a': 2, 'b': {'c': 200, 'd': 5}}\n"
     ]
    }
   ],
   "source": [
    "dict2 = dict(dict1) # list(), dict(), tuple(), set()  # shallow copy\n",
    "print(dict2)\n",
    "dict2[\"b\"][\"c\"] = 200\n",
    "print(dict2)\n",
    "print(dict1)"
   ]
  },
  {
   "cell_type": "code",
   "execution_count": 20,
   "metadata": {},
   "outputs": [
    {
     "name": "stdout",
     "output_type": "stream",
     "text": [
      "{'a': 2, 'b': {'c': 20, 'd': 5}}\n",
      "{'a': 2, 'b': {'c': 200, 'd': 5}}\n",
      "{'a': 2, 'b': {'c': 20, 'd': 5}}\n"
     ]
    }
   ],
   "source": [
    "import copy\n",
    "dict1 = {\n",
    "  \"a\" : 2,\n",
    "  \"b\" : {\"c\": 20, \"d\":5}\n",
    "}\n",
    "dict2 = copy.deepcopy(dict1)\n",
    "print(dict2)\n",
    "dict2[\"b\"][\"c\"] = 200\n",
    "print(dict2)\n",
    "print(dict1)"
   ]
  }
 ],
 "metadata": {
  "kernelspec": {
   "display_name": "base",
   "language": "python",
   "name": "python3"
  },
  "language_info": {
   "codemirror_mode": {
    "name": "ipython",
    "version": 3
   },
   "file_extension": ".py",
   "mimetype": "text/x-python",
   "name": "python",
   "nbconvert_exporter": "python",
   "pygments_lexer": "ipython3",
   "version": "3.9.13"
  },
  "orig_nbformat": 4
 },
 "nbformat": 4,
 "nbformat_minor": 2
}
